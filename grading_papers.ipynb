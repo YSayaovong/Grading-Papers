# Take an input of a test score (0-100) and transform it into a grade (A-F)
score = float(input("Please enter your test score (0-100): "))

if score >= 90:
  grade = "A"
  print(f"Your score of {score} is equivalent to a grade of an {grade}")
elif score >= 80:
  grade = "B"
  print(f"Your score of {score} is equivalent to a grade of a {grade}")
elif score >= 70:
  grade = "C"
  print(f"Your score of {score} is equivalent to a grade of a {grade}")
elif score >= 60:
  grade = "D"
  print(f"Your score of {score} is equivalent to a grade of a {grade}")
else:
  grade = "F"
  print(f"Your score of {score} is equivalent to a grade of a {grade}")